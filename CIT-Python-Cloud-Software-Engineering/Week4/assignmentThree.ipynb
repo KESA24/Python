{
 "cells": [
  {
   "cell_type": "code",
   "execution_count": 12,
   "metadata": {},
   "outputs": [
    {
     "name": "stdout",
     "output_type": "stream",
     "text": [
      "('Brenda', 'Grace', 'Hannah', 'Mckinsey')\n",
      "['Brenda', 'Grace', 'Hannah', 'Mckinsey']\n",
      "['Brenda', 'Grace', 'Hannah', 'Mckinsey', 'Nakato', 'Jasmine']\n",
      "('Brenda', 'Grace', 'Hannah', 'Mckinsey', 'Nakato', 'Jasmine')\n"
     ]
    }
   ],
   "source": [
    "# Create a tuple with a list of items and convert that tuple into a list.\n",
    "\n",
    "names = ('Brenda', 'Grace', 'Hannah', 'Mckinsey')\n",
    "print(names)\n",
    "\n",
    "namesList = list(names)\n",
    "print(namesList)\n",
    "\n",
    "# Add 2 more items and then convert it back to a tuple.\n",
    "namesList.extend(['Nakato', 'Jasmine'])\n",
    "print(namesList)\n",
    "\n",
    "namesListTuple = tuple(namesList)\n",
    "print(namesListTuple)\n"
   ]
  },
  {
   "cell_type": "code",
   "execution_count": 15,
   "metadata": {},
   "outputs": [
    {
     "name": "stdout",
     "output_type": "stream",
     "text": [
      "[[ 3  4  5  6  7]\n",
      " [10 20 30 40 50]\n",
      " [30 35 36 37 38]]\n"
     ]
    }
   ],
   "source": [
    "#Create a 3-D Numpy Array \n",
    "import numpy as np\n",
    "arrThreeD = np.array([[3,4,5,6,7], [10,20,30,40,50],[30,35,36,37,38]])\n",
    "print(arrThreeD)\n",
    "\n"
   ]
  },
  {
   "cell_type": "code",
   "execution_count": 28,
   "metadata": {},
   "outputs": [
    {
     "name": "stdout",
     "output_type": "stream",
     "text": [
      "[1, 3, 5, 7, 9, 11, 13, 15, 17, 19]\n"
     ]
    }
   ],
   "source": [
    "#Create a function that prints odd numbers\n",
    "def odds(max):\n",
    "    oddList=[]\n",
    "    for i in range(max):\n",
    "        if i % 2 !=0:\n",
    "            oddList.append(i)\n",
    "    print(oddList)\n",
    "\n",
    "odds(20)"
   ]
  },
  {
   "cell_type": "code",
   "execution_count": null,
   "metadata": {},
   "outputs": [],
   "source": [
    "# create a tuple with a list of items and convert it to a list\n",
    "def create_tuple(length):\n",
    "    t = ()\n",
    "    for i in range(length):\n",
    "        t += (i,)\n",
    "    return list(t)\n",
    "\n",
    "# Add two more items the list and then convert it back to a tuple\n",
    "def add_two_items(t):\n",
    "    t += [2, 3]\n",
    "    return tuple(t)\n",
    "\n",
    "# create a 3-D numpy array\n",
    "def create_3d_array(n):\n",
    "    # return a 3-D array with n for 3 rows and 3 columns\n",
    "    return np.array([[[i, i, i] for i in range(n)]])\n",
    "\n",
    "# create a function that print odd numbers using numpy\n",
    "def print_odd_numbers(n):\n",
    "    for i in range(n):\n",
    "        if i % 2 != 0:\n",
    "            print(i)\n",
    "\n",
    "\n",
    "if __name__ == '__main__':\n",
    "    print(create_tuple(5))\n",
    "\n",
    "    tp = create_tuple(5)\n",
    "    print(add_two_items(tp))\n",
    "\n",
    "    print(create_3d_array(3))\n",
    "\n",
    "    print_odd_numbers(15)"
   ]
  }
 ],
 "metadata": {
  "interpreter": {
   "hash": "1e915f0a29dc84041eaeb02b7b1a21c440e37a87b61d44d5e84a515737dc82bc"
  },
  "kernelspec": {
   "display_name": "Python 3.9.7 64-bit ('base': conda)",
   "language": "python",
   "name": "python3"
  },
  "language_info": {
   "codemirror_mode": {
    "name": "ipython",
    "version": 3
   },
   "file_extension": ".py",
   "mimetype": "text/x-python",
   "name": "python",
   "nbconvert_exporter": "python",
   "pygments_lexer": "ipython3",
   "version": "3.9.7"
  },
  "orig_nbformat": 4
 },
 "nbformat": 4,
 "nbformat_minor": 2
}
