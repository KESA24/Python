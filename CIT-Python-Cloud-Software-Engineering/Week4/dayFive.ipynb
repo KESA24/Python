{
 "cells": [
  {
   "cell_type": "code",
   "execution_count": 6,
   "metadata": {},
   "outputs": [
    {
     "name": "stdout",
     "output_type": "stream",
     "text": [
      " I have 20 dollars and I'm still broke broke\n",
      "Days of the week: Monday \n",
      "FirstDay: Tuesday\n"
     ]
    }
   ],
   "source": [
    "print(' I have {} dollars and I\\'m still {} broke'.format(20, 'broke'))\n",
    "\n",
    "weekDays = ('Monday', 'Tuesday', 'Wednesday', 'Thursday', 'Friday')\n",
    "\n",
    "report = 'Days of the week: {0} \\nFirstDay: {1}'.format(\n",
    "    weekDays[0], weekDays[1])\n",
    "\n",
    "print(report)\n"
   ]
  },
  {
   "cell_type": "code",
   "execution_count": 14,
   "metadata": {},
   "outputs": [
    {
     "name": "stdout",
     "output_type": "stream",
     "text": [
      "[ 1  2  3  4  5  6  7  8  9 10]\n",
      "[  10   40   90  160  250  360  490  640  810 1000]\n",
      "[ 11  22  33  44  55  66  77  88  99 110]\n",
      "0\n",
      "5\n"
     ]
    }
   ],
   "source": [
    "import numpy as np\n",
    "\n",
    "time1 = np.array([[1, 2, 3, 4, 5], [6, 7, 8, 9, 10]])\n",
    "time = np.array([1, 2, 3, 4, 5,6, 7, 8, 9, 10])\n",
    "interval = np.array([10, 20, 30, 40, 50, 60, 70, 80, 90, 100])\n",
    "\n",
    "#Ravel flattens the array; makes a 2 dimensional array into a one dimensional array\n",
    "print(time1.ravel()) \n",
    "\n",
    "print(np.multiply(time, interval))\n",
    "print(np.add(time, interval))\n",
    "# How many numbers are greater than 50 in the arrays\n",
    "print((time > 50).sum())\n",
    "print((interval > 50).sum())\n"
   ]
  },
  {
   "cell_type": "code",
   "execution_count": null,
   "metadata": {},
   "outputs": [],
   "source": []
  }
 ],
 "metadata": {
  "interpreter": {
   "hash": "1e915f0a29dc84041eaeb02b7b1a21c440e37a87b61d44d5e84a515737dc82bc"
  },
  "kernelspec": {
   "display_name": "Python 3.9.7 64-bit ('base': conda)",
   "language": "python",
   "name": "python3"
  },
  "language_info": {
   "codemirror_mode": {
    "name": "ipython",
    "version": 3
   },
   "file_extension": ".py",
   "mimetype": "text/x-python",
   "name": "python",
   "nbconvert_exporter": "python",
   "pygments_lexer": "ipython3",
   "version": "3.9.7"
  },
  "orig_nbformat": 4
 },
 "nbformat": 4,
 "nbformat_minor": 2
}
