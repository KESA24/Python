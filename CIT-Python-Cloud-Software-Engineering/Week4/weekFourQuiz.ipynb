{
 "cells": [
  {
   "cell_type": "code",
   "execution_count": 8,
   "metadata": {},
   "outputs": [
    {
     "name": "stdout",
     "output_type": "stream",
     "text": [
      "[50]\n"
     ]
    }
   ],
   "source": [
    "import numpy as np\n",
    "arr = np.arange(50,100,50) \n",
    "\n",
    "print(arr)"
   ]
  },
  {
   "cell_type": "code",
   "execution_count": 10,
   "metadata": {},
   "outputs": [
    {
     "name": "stdout",
     "output_type": "stream",
     "text": [
      "5.742857142857143\n",
      "256\n"
     ]
    }
   ],
   "source": [
    "Track = [4.1,5.1,4.5,4.9,5.6,7.5,8.5,] \n",
    "trackMean = np.mean(Track)\n",
    "print(trackMean)\n",
    "\n",
    "print(2**2**3) "
   ]
  },
  {
   "cell_type": "code",
   "execution_count": 13,
   "metadata": {},
   "outputs": [
    {
     "name": "stdout",
     "output_type": "stream",
     "text": [
      "You have 1 grapes\n",
      "You have 2 grapes\n",
      "You have 3 grapes\n",
      "You have 4 grapes\n",
      "You have 5 grapes\n",
      "You have 6 grapes\n",
      "You have 7 grapes\n",
      "You have 8 grapes\n",
      "You have 9 grapes\n",
      "You have 10 grapes\n",
      "You have 11 grapes\n"
     ]
    },
    {
     "data": {
      "text/plain": [
       "6"
      ]
     },
     "execution_count": 13,
     "metadata": {},
     "output_type": "execute_result"
    }
   ],
   "source": [
    "#Create a while loop that keeps adding the amount of grapes in hand 10 times. \n",
    "numberOfGrapes = 0\n",
    "\n",
    "while numberOfGrapes <= 10:\n",
    "    numberOfGrapes+=1\n",
    "    print('You have '+ str(numberOfGrapes)+ ' grapes')\n",
    "\n",
    "\n",
    "36//6 "
   ]
  },
  {
   "cell_type": "code",
   "execution_count": 16,
   "metadata": {},
   "outputs": [
    {
     "name": "stdout",
     "output_type": "stream",
     "text": [
      "1\n",
      "2\n",
      "3\n",
      "4\n",
      "5\n",
      "6\n",
      "7\n",
      "8\n",
      "9\n",
      "10\n",
      "11\n",
      "12\n",
      "13\n",
      "14\n",
      "15\n",
      "16\n",
      "17\n",
      "18\n",
      "19\n",
      "20\n"
     ]
    }
   ],
   "source": [
    "#12.create a for loop that prints 1 to 20. \n",
    "for i in range(1,21):\n",
    "    print (i)"
   ]
  },
  {
   "cell_type": "code",
   "execution_count": 17,
   "metadata": {},
   "outputs": [
    {
     "name": "stdout",
     "output_type": "stream",
     "text": [
      "Hired\n"
     ]
    }
   ],
   "source": [
    "#Create a if statement that your output is True. \n",
    "\n",
    "experienceYears = 5\n",
    "\n",
    "if (experienceYears > 3):\n",
    "    print('Hired')\n",
    "else:\n",
    "    print('Sorry, we cannot hire you')"
   ]
  },
  {
   "cell_type": "code",
   "execution_count": 18,
   "metadata": {},
   "outputs": [
    {
     "name": "stdout",
     "output_type": "stream",
     "text": [
      "Brenda\n",
      "Brenda\n",
      "Dave\n",
      "('Brenda',)\n"
     ]
    }
   ],
   "source": [
    "names = (\"Dave\", \"Jamie\", \"Jill\", \"Brenda\") \n",
    "print(names[3])\n",
    "print(names[-1])\n",
    "print(names[-4])\n",
    "print(names[3:])\n"
   ]
  },
  {
   "cell_type": "code",
   "execution_count": 20,
   "metadata": {},
   "outputs": [
    {
     "name": "stdout",
     "output_type": "stream",
     "text": [
      "2021\n"
     ]
    }
   ],
   "source": [
    "import datetime\n",
    "\n",
    "def currentYear(): \n",
    "    x = datetime.datetime.now()\n",
    "    print(x.year)\n",
    "\n",
    "currentYear()\n"
   ]
  },
  {
   "cell_type": "code",
   "execution_count": 22,
   "metadata": {},
   "outputs": [
    {
     "name": "stdout",
     "output_type": "stream",
     "text": [
      "car\n",
      "Motorbike\n",
      "Airbus\n"
     ]
    }
   ],
   "source": [
    "#Create a dictionary that only prints out the keys. \n",
    "\n",
    "autoMobiles = {\n",
    "    'car': 'Ford',\n",
    "    'Motorbike': 'Mercedes',\n",
    "    'Airbus': 'Boeing'\n",
    "\n",
    "}\n",
    "\n",
    "for types in autoMobiles.keys():\n",
    "    print(types)"
   ]
  },
  {
   "cell_type": "code",
   "execution_count": 24,
   "metadata": {},
   "outputs": [
    {
     "name": "stdout",
     "output_type": "stream",
     "text": [
      "True\n",
      "120\n"
     ]
    }
   ],
   "source": [
    "print(9 == 9)\n",
    "print(20 + 10 ** 2) "
   ]
  },
  {
   "cell_type": "code",
   "execution_count": 25,
   "metadata": {},
   "outputs": [
    {
     "name": "stdout",
     "output_type": "stream",
     "text": [
      "1\n",
      "3\n",
      "5\n",
      "7\n"
     ]
    }
   ],
   "source": [
    "#Create a forloop that prints 1,3,5,7 as a output. \n",
    "for i in range(1,9,2):\n",
    "    print (i)"
   ]
  },
  {
   "cell_type": "code",
   "execution_count": 26,
   "metadata": {},
   "outputs": [
    {
     "name": "stdout",
     "output_type": "stream",
     "text": [
      "I love Python\n"
     ]
    }
   ],
   "source": [
    "#Create a function that prints out \"I Love Python\" \n",
    "\n",
    "def pyLove(): \n",
    "    print('I love Python')\n",
    "\n",
    "pyLove()"
   ]
  }
 ],
 "metadata": {
  "interpreter": {
   "hash": "1e915f0a29dc84041eaeb02b7b1a21c440e37a87b61d44d5e84a515737dc82bc"
  },
  "kernelspec": {
   "display_name": "Python 3.9.7 64-bit ('base': conda)",
   "language": "python",
   "name": "python3"
  },
  "language_info": {
   "codemirror_mode": {
    "name": "ipython",
    "version": 3
   },
   "file_extension": ".py",
   "mimetype": "text/x-python",
   "name": "python",
   "nbconvert_exporter": "python",
   "pygments_lexer": "ipython3",
   "version": "3.9.7"
  },
  "orig_nbformat": 4
 },
 "nbformat": 4,
 "nbformat_minor": 2
}
