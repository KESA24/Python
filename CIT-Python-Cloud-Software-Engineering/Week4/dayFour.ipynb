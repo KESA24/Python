{
 "cells": [
  {
   "cell_type": "code",
   "execution_count": 1,
   "metadata": {},
   "outputs": [
    {
     "name": "stdout",
     "output_type": "stream",
     "text": [
      "Science\n",
      "('Math',)\n",
      "Math\n",
      "Science\n",
      "Reading\n",
      "Chemistry\n",
      "history\n"
     ]
    }
   ],
   "source": [
    "#tuples\n",
    "tup = ('Math', 'Science', 'Reading', 'Chemistry', 'history')\n",
    "\n",
    "print(tup[1])\n",
    "\n",
    "print(tup[:1])\n",
    "\n",
    "for i in tup:\n",
    "    print (i)\n",
    "    "
   ]
  },
  {
   "cell_type": "code",
   "execution_count": 2,
   "metadata": {},
   "outputs": [
    {
     "name": "stdout",
     "output_type": "stream",
     "text": [
      "[[ 1  2  3  4  5  6  7]\n",
      " [ 8  9 10 11 12 13 14]]\n"
     ]
    }
   ],
   "source": [
    "import numpy as np\n",
    "\n",
    "arr = np.array([[1,2,3,4,5,6,7,], [8,9,10,11,12,13,14]]) \n",
    "\n",
    "print(arr)"
   ]
  },
  {
   "cell_type": "code",
   "execution_count": 11,
   "metadata": {},
   "outputs": [
    {
     "name": "stdout",
     "output_type": "stream",
     "text": [
      "[[10 12 13 14 15 16]\n",
      " [30 31 32 33 34 35]\n",
      " [56 55 54 57 98 35]]\n",
      "[[10 30 56]\n",
      " [12 31 55]\n",
      " [13 32 54]\n",
      " [14 33 57]\n",
      " [15 34 98]\n",
      " [16 35 35]]\n"
     ]
    }
   ],
   "source": [
    "#Matrix Transpose\n",
    "arr1 = np.array([[10,12,13,14,15,16],[30,31,32,33,34,35],[56,55,54,57,98,35]])\n",
    "\n",
    "print(arr1)\n",
    "\n",
    "print(arr1.transpose())"
   ]
  }
 ],
 "metadata": {
  "interpreter": {
   "hash": "1e915f0a29dc84041eaeb02b7b1a21c440e37a87b61d44d5e84a515737dc82bc"
  },
  "kernelspec": {
   "display_name": "Python 3.9.7 64-bit ('base': conda)",
   "language": "python",
   "name": "python3"
  },
  "language_info": {
   "codemirror_mode": {
    "name": "ipython",
    "version": 3
   },
   "file_extension": ".py",
   "mimetype": "text/x-python",
   "name": "python",
   "nbconvert_exporter": "python",
   "pygments_lexer": "ipython3",
   "version": "3.9.7"
  },
  "orig_nbformat": 4
 },
 "nbformat": 4,
 "nbformat_minor": 2
}
