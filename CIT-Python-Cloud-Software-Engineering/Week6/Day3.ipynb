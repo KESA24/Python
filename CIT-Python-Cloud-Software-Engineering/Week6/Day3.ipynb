{
 "cells": [
  {
   "cell_type": "code",
   "execution_count": 2,
   "metadata": {},
   "outputs": [
    {
     "name": "stdout",
     "output_type": "stream",
     "text": [
      "Basketball\n",
      "Boxing\n",
      "Riding\n",
      "Lakers: Basketball\n",
      "Devils Boxing\n",
      "Eagles Riding\n",
      "Lebron James is a Basketball Player\n"
     ]
    }
   ],
   "source": [
    "#Inheritance\n",
    "\n",
    "class Sports:\n",
    "    def __init__(self, sports1, sports2, sports3):\n",
    "        self.sports1 = sports1\n",
    "        self.sports2 = sports2\n",
    "        self.sports3 = sports3\n",
    "\n",
    "class Second_Sports(Sports):\n",
    "    def sports_teams(self):\n",
    "        print('Lakers: '+ self.sports1)\n",
    "        print('Devils ' + self.sports2)\n",
    "        print('Eagles ' + self.sports3)\n",
    "\n",
    "class Third_Sports(Sports):\n",
    "    def sports_players(self):\n",
    "        print('Lebron James is a ' + self.sports1 + ' Player')\n",
    "\n",
    "\n",
    "c1 = Sports('Basketball', 'Boxing', 'Riding')\n",
    "c2 = Second_Sports('Basketball', 'Boxing', 'Riding')\n",
    "c3 = Third_Sports('Basketball', 'Boxing', 'Riding')\n",
    "\n",
    "print(c1.sports1)\n",
    "print(c1.sports2)\n",
    "print(c1.sports3)\n",
    "\n",
    "c2.sports_teams()\n",
    "c3.sports_players()"
   ]
  },
  {
   "cell_type": "code",
   "execution_count": 5,
   "metadata": {},
   "outputs": [
    {
     "name": "stdout",
     "output_type": "stream",
     "text": [
      "Shawn\n",
      "30\n",
      "CIT\n",
      "Shawn's age is correct\n"
     ]
    }
   ],
   "source": [
    "class Person:\n",
    "    def __init__(self, name, age, school):\n",
    "        self.name = name\n",
    "        self.age = age\n",
    "        self.school = school\n",
    "    \n",
    "    def Valid_age(self):\n",
    "        if self.age == 30:\n",
    "            print('Shawn\\'s age is correct')\n",
    "        else:\n",
    "            print('Shawn is not 30 years old')\n",
    "\n",
    "person_age = Person('Shawn', 30 , \"CIT\")\n",
    "\n",
    "print(person_age.name)\n",
    "print(person_age.age)\n",
    "print(person_age.school)\n",
    "\n",
    "person_age.Valid_age()"
   ]
  },
  {
   "cell_type": "code",
   "execution_count": 6,
   "metadata": {},
   "outputs": [
    {
     "name": "stdout",
     "output_type": "stream",
     "text": [
      "Punch\n",
      "kick!\n",
      "slam!\n",
      "Pushups\n",
      "running\n",
      "situps\n",
      "Basketball\n",
      "Tag\n",
      "Jump rope\n"
     ]
    }
   ],
   "source": [
    "#Polymorphism\n",
    "\n",
    "class Fighting:\n",
    "    def first_move(self):\n",
    "        print('Punch')\n",
    "    \n",
    "    def second_move(self):\n",
    "        print('kick!')\n",
    "    \n",
    "    def third_move(self):\n",
    "        print('slam!')\n",
    "    \n",
    "class Exercise:\n",
    "    def first_move(self):\n",
    "        print('Pushups')\n",
    "    \n",
    "    def second_move(self):\n",
    "        print('running')\n",
    "    \n",
    "    def third_move(self):\n",
    "        print('situps')\n",
    "\n",
    "class Playing:\n",
    "    def first_move(self):\n",
    "        print('Basketball')\n",
    "    \n",
    "    def second_move(self):\n",
    "        print('Tag')\n",
    "\n",
    "    def third_move(self):\n",
    "        print('Jump rope')\n",
    "\n",
    "assign1 = Fighting()\n",
    "assign2 = Exercise()\n",
    "assign3 = Playing()\n",
    "\n",
    "\n",
    "assign1.first_move()\n",
    "assign1.second_move()\n",
    "assign1.third_move()\n",
    "\n",
    "assign2.first_move()\n",
    "assign2.second_move()\n",
    "assign2.third_move()\n",
    "\n",
    "assign3.first_move()\n",
    "assign3.second_move()\n",
    "assign3.third_move()\n",
    "\n",
    "def do_something(a):\n",
    "    a.first_move()\n",
    "    a.second_move()\n",
    "    a.third_move()\n",
    "    "
   ]
  },
  {
   "cell_type": "code",
   "execution_count": 8,
   "metadata": {},
   "outputs": [
    {
     "name": "stdout",
     "output_type": "stream",
     "text": [
      "Brenda\n",
      "Mike\n",
      "Linda\n",
      "Brenda is Dribbling!\n",
      "Mike is Shooting!\n",
      "Linda is Passing!\n"
     ]
    }
   ],
   "source": [
    "class Basketball_camp:\n",
    "    def __init__(self,player1,player2,player3):\n",
    "        self.player1 = player1\n",
    "        self.player2 = player2\n",
    "        self.player3 = player3\n",
    "\n",
    "class Drills(Basketball_camp):\n",
    "    def drill1(self):\n",
    "        print(self.player1 + \" is Dribbling!\")\n",
    "\n",
    "\n",
    "class Drill2(Basketball_camp):\n",
    "    def drill1(self):\n",
    "        print(self.player2 + \" is Shooting!\")\n",
    "\n",
    "\n",
    "class Drill3(Basketball_camp):\n",
    "    def drill1(self):\n",
    "        print(self.player3 + \" is Passing!\")\n",
    "\n",
    "\n",
    "x1 = Drills(\"Brenda\",\"Mike\",\"Linda\")\n",
    "\n",
    "x2 = Drill2(\"Brenda\",\"Mike\",\"Linda\")\n",
    "\n",
    "x3 = Drill3(\"Brenda\",\"Mike\",\"Linda\")\n",
    "\n",
    "print(x1.player1)\n",
    "print(x1.player2)\n",
    "print(x1.player3)\n",
    "\n",
    "x1.drill1()\n",
    "x2.drill1()\n",
    "x3.drill1()\n"
   ]
  }
 ],
 "metadata": {
  "interpreter": {
   "hash": "1e915f0a29dc84041eaeb02b7b1a21c440e37a87b61d44d5e84a515737dc82bc"
  },
  "kernelspec": {
   "display_name": "Python 3.9.7 64-bit ('base': conda)",
   "language": "python",
   "name": "python3"
  },
  "language_info": {
   "codemirror_mode": {
    "name": "ipython",
    "version": 3
   },
   "file_extension": ".py",
   "mimetype": "text/x-python",
   "name": "python",
   "nbconvert_exporter": "python",
   "pygments_lexer": "ipython3",
   "version": "3.9.7"
  },
  "orig_nbformat": 4
 },
 "nbformat": 4,
 "nbformat_minor": 2
}
