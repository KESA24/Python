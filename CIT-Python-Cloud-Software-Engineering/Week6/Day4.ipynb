{
 "cells": [
  {
   "cell_type": "code",
   "execution_count": 9,
   "metadata": {},
   "outputs": [
    {
     "name": "stdout",
     "output_type": "stream",
     "text": [
      "Hi Brian your current account balance is 500 in the account 7997\n",
      "Time Checked: 2021-12-16 17:49:28.973896\n",
      "Hi Cathy your current account balance is 1000 in the account 7997\n",
      "Time Checked: 2021-12-16 17:49:28.975965\n",
      "Hi Brian your current account balance is 400 in the account 7997\n",
      "Time Checked: 2021-12-16 17:49:28.976897\n",
      "Hi Cathy your current account balance is 500 in the account 7997\n",
      "Time Checked: 2021-12-16 17:49:28.977894\n",
      "Hi Brian your current account balance is 5400 in the account 7997\n",
      "Time Checked: 2021-12-16 17:49:28.977894\n",
      "Hi Cathy your current account balance is 10500 in the account 7997\n",
      "Time Checked: 2021-12-16 17:49:28.977894\n"
     ]
    }
   ],
   "source": [
    "#import datetime as datetime\n",
    "from datetime import datetime\n",
    "\n",
    "#We are going to create a bank statement using class function\n",
    "\n",
    "class Bank_Statement:\n",
    "    def __init__(self,name,balance=0):\n",
    "        self.name = name\n",
    "        self.balance = balance\n",
    "\n",
    "\n",
    "    def Display_Account(self):\n",
    "        time = datetime.now()\n",
    "        account_number = 7997\n",
    "        print('Hi ' + self.name + ' your current account balance is ' + str(self.balance) + ' in the account ' + str(account_number) + '\\n'+ 'Time Checked: ' + str(time))\n",
    "\n",
    "    def Withdraw(self,amount):\n",
    "        self.balance -= amount\n",
    "\n",
    "\n",
    "    def deposit(self,amount):\n",
    "        self.balance += amount\n",
    "\n",
    "\n",
    "\n",
    "a1 = Bank_Statement(\"Brian\",500)\n",
    "a2 = Bank_Statement(\"Cathy\",1000)\n",
    "\n",
    "a1.Display_Account()\n",
    "a2.Display_Account()\n",
    "\n",
    "a1.Withdraw(100)\n",
    "a1.Display_Account()\n",
    "\n",
    "a2.Withdraw(500)\n",
    "a2.Display_Account()\n",
    "\n",
    "a1.deposit(5000)\n",
    "a1.Display_Account()\n",
    "\n",
    "a2.deposit(10000)\n",
    "a2.Display_Account()\n"
   ]
  }
 ],
 "metadata": {
  "interpreter": {
   "hash": "1e915f0a29dc84041eaeb02b7b1a21c440e37a87b61d44d5e84a515737dc82bc"
  },
  "kernelspec": {
   "display_name": "Python 3.9.7 64-bit ('base': conda)",
   "language": "python",
   "name": "python3"
  },
  "language_info": {
   "codemirror_mode": {
    "name": "ipython",
    "version": 3
   },
   "file_extension": ".py",
   "mimetype": "text/x-python",
   "name": "python",
   "nbconvert_exporter": "python",
   "pygments_lexer": "ipython3",
   "version": "3.9.7"
  },
  "orig_nbformat": 4
 },
 "nbformat": 4,
 "nbformat_minor": 2
}
