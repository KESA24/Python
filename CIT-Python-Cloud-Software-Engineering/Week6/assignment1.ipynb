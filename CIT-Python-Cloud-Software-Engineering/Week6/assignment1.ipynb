{
 "cells": [
  {
   "cell_type": "code",
   "execution_count": null,
   "metadata": {},
   "outputs": [],
   "source": [
    "'''\n",
    "1. Create a funtion that returns a string and a float.\n",
    "2. Create a nesting dictionary that prints keys and values.\n",
    "3. Create a polymorphism class with 3 class with 3 roles.\n",
    "4. Create a class function that the child class inherit from the parent class.\n",
    "5. Create a class function that has a if statement that returns false.\n",
    "\n",
    "'''"
   ]
  },
  {
   "cell_type": "code",
   "execution_count": 1,
   "metadata": {},
   "outputs": [
    {
     "name": "stdout",
     "output_type": "stream",
     "text": [
      "My name is kesa and I work  5.0 hours weekly\n"
     ]
    }
   ],
   "source": [
    "#1. Create a funtion that returns a string and a float.\n",
    " \n",
    "def myName(name, hours):\n",
    "    print('My name is ' + name + ' and I work  ' + str(float(hours))+ ' hours weekly') \n",
    "\n",
    "myName('kesa', 5)"
   ]
  },
  {
   "cell_type": "code",
   "execution_count": 5,
   "metadata": {},
   "outputs": [
    {
     "name": "stdout",
     "output_type": "stream",
     "text": [
      "{'Patricia': {'Number': '0786145718', 'Address': 'Gayaza', 'Connection': 'Work'}, 'Maurice': {'Number': '0786145717', 'Address': 'Mukono', 'Connection': 'Hiking'}, 'Tonny': {'Number': '0786145718', 'Address': 'Mengo', 'Connection': 'Basketball'}}\n",
      "Patricia\n",
      "Number: 0786145718\n",
      "Address: Gayaza\n",
      "Connection: Work\n",
      "Maurice\n",
      "Number: 0786145717\n",
      "Address: Mukono\n",
      "Connection: Hiking\n",
      "Tonny\n",
      "Number: 0786145718\n",
      "Address: Mengo\n",
      "Connection: Basketball\n"
     ]
    }
   ],
   "source": [
    "#2. Create a nesting dictionary that prints keys and values.\n",
    "\n",
    "phoneBook = {\n",
    "    'Patricia':{\n",
    "        'Number': '0786145718',\n",
    "        'Address': 'Gayaza',\n",
    "        'Connection': 'Work'\n",
    "    },\n",
    "\n",
    "    'Maurice':{\n",
    "        'Number': '0786145717',\n",
    "        'Address': 'Mukono',\n",
    "        'Connection': 'Hiking'\n",
    "    },\n",
    "\n",
    "    'Tonny':{\n",
    "        'Number': '0786145718',\n",
    "        'Address': 'Mengo',\n",
    "        'Connection': 'Basketball'\n",
    "    },\n",
    "\n",
    "}\n",
    "\n",
    "print(phoneBook)\n",
    "\n",
    "for i,m in phoneBook.items():\n",
    "    print (i)\n",
    "    for j,k in m.items():\n",
    "        print(j+\": \"+ k)"
   ]
  },
  {
   "cell_type": "code",
   "execution_count": 5,
   "metadata": {},
   "outputs": [
    {
     "name": "stdout",
     "output_type": "stream",
     "text": [
      "Primary has 30 teachers\n",
      "Secondary has  60 teachers\n",
      "College has over 100 teachers\n"
     ]
    }
   ],
   "source": [
    "#3. Create a polymorphism class with 3 class with 3 roles.\n",
    "\n",
    "class Primaryschools:\n",
    "    def teachers(self):\n",
    "        print('Primary has 30 teachers')\n",
    "    \n",
    "    def students(self):\n",
    "        print('Primary has 200 students')\n",
    "    \n",
    "    def buildings(self):\n",
    "        print('Primary has 3 buildings')\n",
    "\n",
    "class Secondaryschools:\n",
    "    def teachers(self):\n",
    "        print('Secondary has  60 teachers')\n",
    "    \n",
    "    def students(self):\n",
    "        print('Secondary has 400 students')\n",
    "    \n",
    "    def buildings(self):\n",
    "        print('Secondary has 6 buildings')\n",
    "\n",
    "\n",
    "class College:\n",
    "    def teachers(self):\n",
    "        print('College has over 100 teachers')\n",
    "    \n",
    "    def students(self):\n",
    "        print('College has over 2000 students')\n",
    "    \n",
    "    def buildings(self):\n",
    "        print('College has 59 buildings')\n",
    "\n",
    "primary = Primaryschools()\n",
    "secondary = Secondaryschools()\n",
    "university = College()\n",
    "\n",
    "\n",
    "primary.teachers()\n",
    "secondary.teachers()\n",
    "university.teachers()"
   ]
  },
  {
   "cell_type": "code",
   "execution_count": 7,
   "metadata": {},
   "outputs": [
    {
     "name": "stdout",
     "output_type": "stream",
     "text": [
      "Our Team Name is Angels\n",
      "Our point guard is Ruth\n",
      "Our point guard is Denise\n"
     ]
    }
   ],
   "source": [
    "#4. Create a class function that the child class inherit from the parent class.\n",
    "\n",
    "class basketballTeam:\n",
    "    def __init__(self, teamName, pguard, sguard, forward):\n",
    "        self.teamName = teamName\n",
    "        self.pguard = pguard\n",
    "        self.sguard = sguard\n",
    "        self.forward = forward\n",
    "    \n",
    "class nblTeam(basketballTeam):\n",
    "    def team(self):\n",
    "        print('Our Team Name is ' + self.teamName)\n",
    "\n",
    "    def pointguard(self):\n",
    "        print('Our point guard is ' + self.pguard)\n",
    "\n",
    "    def shootingguard(self):\n",
    "        print('Our point guard is ' + self.sguard)\n",
    "    \n",
    "    def powerforward(self):\n",
    "        print('Our point guard is ' + self.forward)\n",
    "\n",
    "TeamOne = nblTeam('Angels', 'Ruth', 'Kesa', 'Denise')\n",
    "\n",
    "TeamOne.team()\n",
    "TeamOne.pointguard()\n",
    "TeamOne.powerforward()"
   ]
  },
  {
   "cell_type": "code",
   "execution_count": 2,
   "metadata": {},
   "outputs": [
    {
     "name": "stdout",
     "output_type": "stream",
     "text": [
      "False\n",
      "Student passed\n"
     ]
    }
   ],
   "source": [
    "# 5. Create a class function that has a if statement that returns false.\n",
    "\n",
    "class Student:\n",
    "    def __init__(self, name, course, marks):\n",
    "        self.name = name\n",
    "        self.course = course\n",
    "        self.marks = marks\n",
    "    \n",
    "    def pass_mark(self):\n",
    "        if self.marks < 70:\n",
    "            print(self.marks > 70)\n",
    "        else:\n",
    "            print('Student passed')\n",
    "\n",
    "student1 = Student('Kesa', 'Engineering Mathematics' , 65)\n",
    "student2 = Student('Jade', 'Engineering Mathematics' , 87)\n",
    "\n",
    "\n",
    "student1.pass_mark()\n",
    "student2.pass_mark()"
   ]
  }
 ],
 "metadata": {
  "interpreter": {
   "hash": "1e915f0a29dc84041eaeb02b7b1a21c440e37a87b61d44d5e84a515737dc82bc"
  },
  "kernelspec": {
   "display_name": "Python 3.9.7 64-bit ('base': conda)",
   "language": "python",
   "name": "python3"
  },
  "language_info": {
   "codemirror_mode": {
    "name": "ipython",
    "version": 3
   },
   "file_extension": ".py",
   "mimetype": "text/x-python",
   "name": "python",
   "nbconvert_exporter": "python",
   "pygments_lexer": "ipython3",
   "version": "3.9.7"
  },
  "orig_nbformat": 4
 },
 "nbformat": 4,
 "nbformat_minor": 2
}
