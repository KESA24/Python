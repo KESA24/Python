{
 "cells": [
  {
   "cell_type": "code",
   "execution_count": null,
   "metadata": {},
   "outputs": [],
   "source": [
    "'''\n",
    "1. Create a cash system that has a sender,receiver, and a robber.\n",
    "2. Create a game using the class polymorphism.\n",
    "\n",
    "'''"
   ]
  },
  {
   "cell_type": "code",
   "execution_count": 12,
   "metadata": {},
   "outputs": [
    {
     "name": "stdout",
     "output_type": "stream",
     "text": [
      "Hello Grace, Your account Balance is: 300000\n",
      "2021-12-16 18:37:47.283878\n",
      "You have received 450000 Current Balance is: 750000\n",
      "2021-12-16 18:37:47.283878\n",
      "You have sent 40000: Current Balance is: 660000\n",
      "2021-12-16 18:37:47.283878\n",
      "Hello Mary, Your account Balance is: 660000\n",
      "2021-12-16 18:37:47.283878\n",
      "Alert! 90000 has been withdrwan from your account,  Balance: 660000\n",
      "2021-12-16 18:37:47.284880\n"
     ]
    }
   ],
   "source": [
    "from datetime import datetime\n",
    "\n",
    "class MobileMoney:\n",
    "    def __init__(self, name, account, balance=0):\n",
    "        self.name = name\n",
    "        self.account = account\n",
    "        self.balance = balance\n",
    "    \n",
    "    def AccountBalance(self):\n",
    "        time = datetime.now()\n",
    "        print('Hello ' + self.name + ', Your account Balance is: ' + str(self.balance) + '\\n' +  str(time)) \n",
    "    \n",
    "    def SendMoney(self, amount):\n",
    "        time = datetime.now()\n",
    "        self.balance -= amount\n",
    "        print('You have sent ' + str(amount) + ': Current Balance is: ' + str(self.balance) + '\\n' +  str(time)) \n",
    "    \n",
    "    def ReceiveMoney(self, amount):\n",
    "        time = datetime.now()\n",
    "        self.balance += amount\n",
    "        print('You have received ' + str(amount) + ' Current Balance is: '  +  str(self.balance) + '\\n' + str(time))\n",
    "\n",
    "    def Alert(self, amount):\n",
    "        time = datetime.now()\n",
    "        self.balance -= amount\n",
    "        print( 'Alert! '+ str(amount) + ' has been withdrwan from your account,  Balance: ' + str(self.balance) + '\\n' +  str(time)) \n",
    "\n",
    "Agent1 = MobileMoney('Grace', 'AG0123122022', 300000)\n",
    "Agent2 = MobileMoney('Mary', 'AG0223122022', 700000)\n",
    "\n",
    "\n",
    "Agent1.AccountBalance()\n",
    "Agent1.ReceiveMoney(450000)\n",
    "\n",
    "Agent2.SendMoney(40000)\n",
    "Agent2.AccountBalance()\n",
    "\n",
    "Agent1.Alert(90000)"
   ]
  },
  {
   "cell_type": "code",
   "execution_count": 6,
   "metadata": {},
   "outputs": [
    {
     "name": "stdout",
     "output_type": "stream",
     "text": [
      "This is level One\n",
      "Game speed is 5 frames per second\n",
      "Sorry, you did not pass this level\n",
      "You leveled up!\n",
      "--------------------------------------------\n",
      "Welcome to Level two\n",
      "Game speed is 10 frames per second\n",
      "Sorry, you did not pass this level\n",
      "You leveled up!\n",
      "--------------------------------------------\n",
      "You are hanging with the pros\n",
      "Game speed is 20 frames per second\n",
      "You leveled up!\n",
      "Sorry, you did not pass this level\n"
     ]
    }
   ],
   "source": [
    "class SnakeXenzia:\n",
    "    def gamelevel(self):\n",
    "        print('This is level One')\n",
    "    \n",
    "    def gameSpeed(self, speed):\n",
    "        print('Game speed is ' + str(speed)+ ' frames per second')\n",
    "    \n",
    "    def levelUpgrade(self, result):\n",
    "        if result >= 500:\n",
    "            print('You leveled up!')\n",
    "        else:\n",
    "            print('Sorry, you did not pass this level')\n",
    "\n",
    "class SnakeXenzia2:\n",
    "    def gamelevel(self):\n",
    "        print('Welcome to Level two')\n",
    "    \n",
    "    def gameSpeed(self, speed):\n",
    "        print('Game speed is ' + str(speed)+ ' frames per second')\n",
    "    \n",
    "    def levelUpgrade(self, result):\n",
    "        if result >= 1000:\n",
    "            print('You leveled up!')\n",
    "        else:\n",
    "            print('Sorry, you did not pass this level')\n",
    "    \n",
    "class SnakeXenzia3:\n",
    "    def gamelevel(self):\n",
    "        print('You are hanging with the pros')\n",
    "    \n",
    "    def gameSpeed(self, speed):\n",
    "        print('Game speed is ' + str(speed)+ ' frames per second')\n",
    "    \n",
    "    def levelUpgrade(self, result):\n",
    "        if result >= 2000:\n",
    "            print('You leveled up!')\n",
    "        else:\n",
    "            print('Sorry, you did not pass this level')\n",
    "\n",
    "\n",
    "player1 = SnakeXenzia()\n",
    "player2 = SnakeXenzia2()\n",
    "player3 = SnakeXenzia3()\n",
    "\n",
    "player1.gamelevel()\n",
    "player1.gameSpeed(5)\n",
    "player1.levelUpgrade(400)\n",
    "player1.levelUpgrade(600)\n",
    "print('--------------------------------------------')\n",
    "player2.gamelevel()\n",
    "player2.gameSpeed(10)\n",
    "player2.levelUpgrade(800)\n",
    "player2.levelUpgrade(1200)\n",
    "print('--------------------------------------------')\n",
    "player3.gamelevel()\n",
    "player3.gameSpeed(20)\n",
    "player3.levelUpgrade(2400)\n",
    "player3.levelUpgrade(1600)"
   ]
  }
 ],
 "metadata": {
  "interpreter": {
   "hash": "1e915f0a29dc84041eaeb02b7b1a21c440e37a87b61d44d5e84a515737dc82bc"
  },
  "kernelspec": {
   "display_name": "Python 3.9.7 64-bit ('base': conda)",
   "language": "python",
   "name": "python3"
  },
  "language_info": {
   "codemirror_mode": {
    "name": "ipython",
    "version": 3
   },
   "file_extension": ".py",
   "mimetype": "text/x-python",
   "name": "python",
   "nbconvert_exporter": "python",
   "pygments_lexer": "ipython3",
   "version": "3.9.7"
  },
  "orig_nbformat": 4
 },
 "nbformat": 4,
 "nbformat_minor": 2
}
