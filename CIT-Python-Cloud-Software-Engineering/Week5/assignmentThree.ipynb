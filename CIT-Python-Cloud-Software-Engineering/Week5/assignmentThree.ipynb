{
 "cells": [
  {
   "cell_type": "code",
   "execution_count": null,
   "metadata": {},
   "outputs": [],
   "source": [
    "#Create a class function using one of the magic functions but you cannot use __mul__ \n",
    "#Create a class function that the child class inherit from parent class\n",
    "#Create a 2-D array and transform it to transponse matrix\n",
    "# _sub_for -\n",
    "# _mul__ for *\n",
    "# _truediv__for /\n",
    "# _floordiv_for //\n",
    "# _mod_for %\n",
    "# _pow_for**\n",
    "# _and_for &\n",
    "# _xor_for ^\n",
    "# _or_for\n",
    "\n",
    "# _it_ for <\n",
    "# _le_ for <=\n",
    "# _eq_for ==\n",
    "# _ne_for !=\n",
    "# _gt_for >\n",
    "# _ge_ for>="
   ]
  },
  {
   "cell_type": "code",
   "execution_count": 20,
   "metadata": {},
   "outputs": [
    {
     "name": "stdout",
     "output_type": "stream",
     "text": [
      "Employee Name: Oluk Isaac , Employee salary:  $40000\n",
      "Employee Name: Nabwire Shona , Employee salary:  $80000\n"
     ]
    }
   ],
   "source": [
    "class Employee:\n",
    "    def __init__(self, name, salary):\n",
    "        self.name= name\n",
    "        self.salary=salary\n",
    "    def __str__(self):\n",
    "        return 'Employee Name: '+ self.name +' , Employee salary:  $'+str(self.salary)\n",
    "\n",
    "Manager=Employee('Oluk Isaac', 40000)\n",
    "Manager2=Employee('Nabwire Shona', 80000)\n",
    "\n",
    "print(Manager)\n",
    "print(Manager2)"
   ]
  },
  {
   "cell_type": "code",
   "execution_count": 22,
   "metadata": {},
   "outputs": [
    {
     "name": "stdout",
     "output_type": "stream",
     "text": [
      "Welcome Mike Olsen to the class of 2019\n"
     ]
    }
   ],
   "source": [
    "class Person:\n",
    "  def __init__(self, fname, lname):\n",
    "    self.firstname = fname\n",
    "    self.lastname = lname\n",
    "\n",
    "  def printname(self):\n",
    "    print(self.firstname, self.lastname)\n",
    "\n",
    "# class Student(Person):\n",
    "#   pass\n",
    "\n",
    "# x = Student(\"Mike\", \"Olsen\")\n",
    "# x.printname()\n",
    "\n",
    "class Student(Person):\n",
    "  def __init__(self, fname, lname, year):\n",
    "    super().__init__(fname, lname)\n",
    "    self.graduationyear = year\n",
    "\n",
    "  def welcome(self):\n",
    "    print(\"Welcome\", self.firstname, self.lastname, \"to the class of\", self.graduationyear)\n",
    "\n",
    "x = Student(\"Mike\", \"Olsen\", 2019)\n",
    "x.welcome()"
   ]
  },
  {
   "cell_type": "code",
   "execution_count": 23,
   "metadata": {},
   "outputs": [
    {
     "name": "stdout",
     "output_type": "stream",
     "text": [
      "[[4 7 5]\n",
      " [5 1 6]\n",
      " [3 8 4]\n",
      " [9 2 7]]\n"
     ]
    }
   ],
   "source": [
    "import numpy\n",
    "l1= [[4, 5, 3, 9], [7, 1, 8, 2], [5, 6, 4, 7]]\n",
    "print(numpy.transpose(l1))"
   ]
  },
  {
   "cell_type": "code",
   "execution_count": 6,
   "metadata": {},
   "outputs": [
    {
     "name": "stdout",
     "output_type": "stream",
     "text": [
      "50\n",
      "150\n"
     ]
    }
   ],
   "source": [
    "class find_vector:\n",
    "    def __init__(self, number1,number2):\n",
    "        self.number1 = number1\n",
    "        self.number2 = number2\n",
    "\n",
    "    def __add__(self, addition):\n",
    "        return find_vector(self.number1 + addition.number1, self.number2 + addition.number2)\n",
    "\n",
    "first_position = find_vector(20,100)\n",
    "second_position = find_vector(30,50)\n",
    "\n",
    "combine = first_position + second_position\n",
    "\n",
    "print(combine.number1)\n",
    "print(combine.number2)"
   ]
  },
  {
   "cell_type": "code",
   "execution_count": 17,
   "metadata": {},
   "outputs": [
    {
     "name": "stdout",
     "output_type": "stream",
     "text": [
      "Jefferey Sheba Jonathan\n",
      "Jonathan\n",
      "Jonathan's Hobbies are Basketball, Swimming and Math\n"
     ]
    }
   ],
   "source": [
    "#Class Quiz runthrough\n",
    "\n",
    "class family_tree:\n",
    "    def __init__(self,dad,mom,son):\n",
    "        self.dad = dad\n",
    "        self.mom = mom\n",
    "        self.son = son\n",
    "\n",
    "class son_hobbies(family_tree):\n",
    "    def hobbies(self):\n",
    "        print(self.son + '\\'s Hobbies are Basketball, Swimming and Math' )\n",
    "\n",
    "tree = family_tree('Jefferey', 'Sheba', 'Jonathan')\n",
    "son_tree = son_hobbies('Jeffrey','Sheba', 'Jonathan')\n",
    "\n",
    "print(tree.dad , tree.mom , tree.son)\n",
    "print(son_tree.son)\n",
    "\n",
    "son_tree.hobbies()"
   ]
  }
 ],
 "metadata": {
  "interpreter": {
   "hash": "1e915f0a29dc84041eaeb02b7b1a21c440e37a87b61d44d5e84a515737dc82bc"
  },
  "kernelspec": {
   "display_name": "Python 3.9.7 64-bit ('base': conda)",
   "language": "python",
   "name": "python3"
  },
  "language_info": {
   "codemirror_mode": {
    "name": "ipython",
    "version": 3
   },
   "file_extension": ".py",
   "mimetype": "text/x-python",
   "name": "python",
   "nbconvert_exporter": "python",
   "pygments_lexer": "ipython3",
   "version": "3.9.7"
  },
  "orig_nbformat": 4
 },
 "nbformat": 4,
 "nbformat_minor": 2
}
