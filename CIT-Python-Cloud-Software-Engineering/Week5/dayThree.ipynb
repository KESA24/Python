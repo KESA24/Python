{
 "cells": [
  {
   "cell_type": "code",
   "execution_count": 1,
   "metadata": {},
   "outputs": [
    {
     "name": "stdout",
     "output_type": "stream",
     "text": [
      "BMW\n",
      "Beamer\n",
      "Lambo\n",
      "Volkswagon\n"
     ]
    },
    {
     "data": {
      "text/plain": [
       "<bound method car.car_colors of <__main__.car object at 0x000001B0F0264520>>"
      ]
     },
     "execution_count": 1,
     "metadata": {},
     "output_type": "execute_result"
    }
   ],
   "source": [
    "class car:\n",
    "    def __init__(self,car1,car2,car3,car4):\n",
    "        self.car1 = car1\n",
    "        self.car2 = car2\n",
    "        self.car3 = car3\n",
    "        self.car4 = car4\n",
    "\n",
    "\n",
    "    def car_colors(self):\n",
    "        print(\"Red: \" + self.car1)\n",
    "        print(\"Blue: \" + self.car2)\n",
    "        print(\"Black: \" + self.car3)\n",
    "        print(\"Green: \" + self.car4)\n",
    "\n",
    "\n",
    "c1 = car(\"BMW\",\"Beamer\",\"Lambo\",\"Volkswagon\")\n",
    "\n",
    "print(c1.car1)\n",
    "print(c1.car2)\n",
    "print(c1.car3)\n",
    "print(c1.car4)\n",
    "\n",
    "c1.car_colors"
   ]
  },
  {
   "cell_type": "code",
   "execution_count": 4,
   "metadata": {},
   "outputs": [
    {
     "name": "stdout",
     "output_type": "stream",
     "text": [
      "63\n",
      "12\n"
     ]
    }
   ],
   "source": [
    "#Objective: We are trying to find the sum of X & Y\n",
    "class sums:\n",
    "    def __init__(self,x,y):\n",
    "        self.x = x\n",
    "        self.y = y\n",
    "\n",
    "    def __mul__(self,other):\n",
    "        return sums(self.x * other.x,self.y * other.y)\n",
    "\n",
    "\n",
    "\n",
    "first = sums(9,3)\n",
    "second = sums(7,4)\n",
    "\n",
    "results = first * second\n",
    "\n",
    "print(results.x) # Printing out the first items in first & second\n",
    "print(results.y) # Printing out the second items in first & second\n",
    "\n",
    "\n",
    "class animals: #Parent Class\n",
    "    def __init__(self,name, color):\n",
    "        self.name = name\n",
    "        self.color = color\n",
    "\n",
    "\n",
    "\n"
   ]
  }
 ],
 "metadata": {
  "interpreter": {
   "hash": "1e915f0a29dc84041eaeb02b7b1a21c440e37a87b61d44d5e84a515737dc82bc"
  },
  "kernelspec": {
   "display_name": "Python 3.9.7 64-bit ('base': conda)",
   "language": "python",
   "name": "python3"
  },
  "language_info": {
   "codemirror_mode": {
    "name": "ipython",
    "version": 3
   },
   "file_extension": ".py",
   "mimetype": "text/x-python",
   "name": "python",
   "nbconvert_exporter": "python",
   "pygments_lexer": "ipython3",
   "version": "3.9.7"
  },
  "orig_nbformat": 4
 },
 "nbformat": 4,
 "nbformat_minor": 2
}
