{
 "cells": [
  {
   "cell_type": "code",
   "execution_count": 12,
   "metadata": {},
   "outputs": [
    {
     "name": "stdout",
     "output_type": "stream",
     "text": [
      "Points per game: 30.0\n",
      "Finding mode value  ModeResult(mode=array([22]), count=array([1]))\n",
      "Finding median value: 30.5\n"
     ]
    }
   ],
   "source": [
    "import numpy as np\n",
    "from scipy import stats\n",
    "curry_avg = [25, 35, 37, 33, 22, 28]\n",
    "\n",
    "\n",
    "def total_points(args):\n",
    "    player_avg = np.mean(curry_avg)\n",
    "    return args + str(player_avg)\n",
    "\n",
    "\n",
    "print(total_points('Points per game: '))\n",
    "\n",
    "\n",
    "def Mode_value(mode1):\n",
    "    x = stats.mode(curry_avg)\n",
    "    return mode1 + str(x)\n",
    "\n",
    "print(Mode_value('Finding mode value  '))\n",
    "\n",
    "\n",
    "\n",
    "def median_value(median1):\n",
    "    y = np.median(curry_avg)\n",
    "    return median1 + str(y)\n",
    "\n",
    "print(median_value('Finding median value: '))"
   ]
  },
  {
   "cell_type": "code",
   "execution_count": 19,
   "metadata": {},
   "outputs": [
    {
     "name": "stdout",
     "output_type": "stream",
     "text": [
      "Lambo\n",
      "16\n",
      "['red', 'blue', 'black']\n"
     ]
    }
   ],
   "source": [
    "class car:\n",
    "    y = 'Lambo'\n",
    "a1 = car()\n",
    "print(a1.y)\n",
    "\n",
    "\n",
    "class math:\n",
    "    x = 4*4\n",
    "m1 = math()\n",
    "print(m1.x)\n",
    "\n",
    "class colors:\n",
    "    a = \"red\"\n",
    "    b = \"blue\"\n",
    "    c = \"black\"\n",
    "c1 = colors()\n",
    "print([c1.a, c1.b, c1.c])\n"
   ]
  },
  {
   "cell_type": "code",
   "execution_count": 28,
   "metadata": {},
   "outputs": [
    {
     "name": "stdout",
     "output_type": "stream",
     "text": [
      "['ESPN', 'HOUSE', 'NATGEO']\n",
      "First: Football\n",
      "Second: Basketball\n",
      "Third: Soccer\n",
      "Fourth: Baseball\n",
      "['Football', 'Basketball', 'Soccer', 'Baseball']\n"
     ]
    }
   ],
   "source": [
    "class Top3TvShows:\n",
    "    def __init__(self, show1, show2,show3):\n",
    "        self.show1 = show1\n",
    "        self.show2 = show2\n",
    "        self.show3 = show3\n",
    "\n",
    "fav_shows = Top3TvShows('ESPN','HOUSE','NATGEO')\n",
    "print([fav_shows.show1, fav_shows.show2, fav_shows.show3])\n",
    "\n",
    "\n",
    "class myFavoriteSports:\n",
    "    def __init__(self,sports1,sports2,sports3,sports4):\n",
    "        self.sports1 = sports1\n",
    "        self.sports2 = sports2\n",
    "        self.sports3 = sports3\n",
    "        self.sports4 = sports4\n",
    "    \n",
    "    def sports_order(self):\n",
    "        print('First: ' + self.sports1)\n",
    "        print('Second: ' + self.sports2)\n",
    "        print('Third: ' + self.sports3)\n",
    "        print('Fourth: ' + self.sports4)\n",
    "\n",
    "order1 = myFavoriteSports('Football', 'Basketball', 'Soccer','Baseball')\n",
    "order1.sports_order()\n",
    "\n",
    "print([order1.sports1, order1.sports2, order1.sports3, order1.sports4])"
   ]
  }
 ],
 "metadata": {
  "interpreter": {
   "hash": "1e915f0a29dc84041eaeb02b7b1a21c440e37a87b61d44d5e84a515737dc82bc"
  },
  "kernelspec": {
   "display_name": "Python 3.9.7 64-bit ('base': conda)",
   "language": "python",
   "name": "python3"
  },
  "language_info": {
   "codemirror_mode": {
    "name": "ipython",
    "version": 3
   },
   "file_extension": ".py",
   "mimetype": "text/x-python",
   "name": "python",
   "nbconvert_exporter": "python",
   "pygments_lexer": "ipython3",
   "version": "3.9.7"
  },
  "orig_nbformat": 4
 },
 "nbformat": 4,
 "nbformat_minor": 2
}
