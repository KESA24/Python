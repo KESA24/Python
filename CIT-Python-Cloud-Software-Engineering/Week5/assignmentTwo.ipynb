{
 "cells": [
  {
   "cell_type": "code",
   "execution_count": null,
   "metadata": {},
   "outputs": [],
   "source": [
    "\"\"\" ASSIGNMENT TWO\n",
    "1. Create a class called phonebook that prints out names with number\n",
    "2. Create a function that finds the median,mide,sum and sum in a list\n",
    "3. Create a \"2\" 1-D array and multiply both of the arrays \n",
    "4. Create a array that prints out odd numbers \n",
    "5. Create a tuple and convert it into a list and back to a tuple\n",
    "\n",
    "\"\"\"\n"
   ]
  },
  {
   "cell_type": "code",
   "execution_count": 29,
   "metadata": {},
   "outputs": [
    {
     "name": "stdout",
     "output_type": "stream",
     "text": [
      "FullNames: Mary\n",
      "PhoneNumber: 07654278\n"
     ]
    }
   ],
   "source": [
    "#PhoneBook Class\n",
    "\n",
    "class phonebook:\n",
    "    def __init__(self,name,number):\n",
    "        self.name = name\n",
    "        self.number = number\n",
    "\n",
    "    def phonenumbers(self):\n",
    "        print('FullNames: '+ self.name)\n",
    "        print('PhoneNumber: ' + self.number)\n",
    "\n",
    "myContacts = phonebook('Mary', '07654278')\n",
    "myContacts.phonenumbers()\n",
    "        \n"
   ]
  },
  {
   "cell_type": "code",
   "execution_count": 7,
   "metadata": {},
   "outputs": [
    {
     "name": "stdout",
     "output_type": "stream",
     "text": [
      "['List Mean is 6.0', 'List Mode is ModeResult(mode=array([5]), count=array([2]))', 'List Sum is 38']\n"
     ]
    }
   ],
   "source": [
    "# Function that finds median, mode and sum\n",
    "import numpy as np\n",
    "from scipy import stats\n",
    "\n",
    "def statistics(list):\n",
    "    listMedian = np.median(list)\n",
    "    listMode = stats.mode(list)\n",
    "    listSum = np.sum(list)\n",
    "    return ['List Mean is ' + str(listMedian), 'List Mode is ' + str(listMode), 'List Sum is ' +str(listSum)]\n",
    "\n",
    "dailyMiles = [6,8,5,6,8,5,0]\n",
    "\n",
    "print(statistics(dailyMiles))\n"
   ]
  },
  {
   "cell_type": "code",
   "execution_count": 8,
   "metadata": {},
   "outputs": [
    {
     "name": "stdout",
     "output_type": "stream",
     "text": [
      "[  10   40   90  160  250  360  490  640  810 1000]\n"
     ]
    }
   ],
   "source": [
    "time = np.array([1, 2, 3, 4, 5,6, 7, 8, 9, 10])\n",
    "interval = np.array([10, 20, 30, 40, 50, 60, 70, 80, 90, 100])\n",
    "print(np.multiply(time, interval))"
   ]
  },
  {
   "cell_type": "code",
   "execution_count": 26,
   "metadata": {},
   "outputs": [
    {
     "name": "stdout",
     "output_type": "stream",
     "text": [
      "[1, 3, 5, 7, 9, 11, 13, 15, 17, 19, 21, 23, 25, 27, 29]\n"
     ]
    }
   ],
   "source": [
    "oddList = []\n",
    "for i in range(1,30):\n",
    "    if i%2 !=0:\n",
    "        oddList.append(i)\n",
    "print (oddList)\n",
    "   "
   ]
  },
  {
   "cell_type": "code",
   "execution_count": 31,
   "metadata": {},
   "outputs": [
    {
     "name": "stdout",
     "output_type": "stream",
     "text": [
      "(45, 78, 65, 32, 56, 89)\n",
      "[45, 78, 65, 32, 56, 89]\n",
      "(45, 78, 65, 32, 56, 89)\n"
     ]
    }
   ],
   "source": [
    "tupleMiles = (45,78,65,32,56,89)\n",
    "\n",
    "ListMiles = list(tupleMiles)\n",
    "\n",
    "tupleMiles2 = tuple(ListMiles)\n",
    "\n",
    "print(tupleMiles)\n",
    "print(ListMiles)\n",
    "print(tupleMiles2)\n",
    "\n"
   ]
  }
 ],
 "metadata": {
  "interpreter": {
   "hash": "1e915f0a29dc84041eaeb02b7b1a21c440e37a87b61d44d5e84a515737dc82bc"
  },
  "kernelspec": {
   "display_name": "Python 3.9.7 64-bit ('base': conda)",
   "language": "python",
   "name": "python3"
  },
  "language_info": {
   "codemirror_mode": {
    "name": "ipython",
    "version": 3
   },
   "file_extension": ".py",
   "mimetype": "text/x-python",
   "name": "python",
   "nbconvert_exporter": "python",
   "pygments_lexer": "ipython3",
   "version": "3.9.7"
  },
  "orig_nbformat": 4
 },
 "nbformat": 4,
 "nbformat_minor": 2
}
