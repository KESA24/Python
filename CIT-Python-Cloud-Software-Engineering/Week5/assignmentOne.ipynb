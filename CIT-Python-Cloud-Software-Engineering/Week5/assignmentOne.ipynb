{
 "cells": [
  {
   "cell_type": "code",
   "execution_count": 4,
   "metadata": {},
   "outputs": [
    {
     "name": "stdout",
     "output_type": "stream",
     "text": [
      "30.555555555555557\n"
     ]
    }
   ],
   "source": [
    "#Create a list and find the average of that list using numpy.\n",
    "\n",
    "import numpy as np\n",
    "time = [3,7,9,13,57,59,27,67,33]\n",
    "print (np.average(time))"
   ]
  },
  {
   "cell_type": "code",
   "execution_count": null,
   "metadata": {},
   "outputs": [],
   "source": [
    "#Create a nesting dictionary \n",
    "employees = dict(emp1 = {'name': 'Bob', 'job': 'Mgr', 'Age':'30', 'eyears':'3'},\n",
    "                 emp2 = {'name': 'Kim', 'job': 'Dev', 'Age':'25', 'eyears':'2'},\n",
    "                 emp3 = {'name': 'Sam', 'job': 'Dev', 'Age':'27','eyears':'4'})"
   ]
  },
  {
   "cell_type": "code",
   "execution_count": 5,
   "metadata": {},
   "outputs": [
    {
     "name": "stdout",
     "output_type": "stream",
     "text": [
      "27.0\n"
     ]
    }
   ],
   "source": [
    "#Create a list and find the median value.\n",
    "import numpy as np\n",
    "time = [3,7,9,13,57,59,27,67,33]\n",
    "print (np.median(time))"
   ]
  },
  {
   "cell_type": "code",
   "execution_count": 6,
   "metadata": {},
   "outputs": [
    {
     "name": "stdout",
     "output_type": "stream",
     "text": [
      "10\n"
     ]
    }
   ],
   "source": [
    "l = [None] * 10\n",
    "print(len(l))\n"
   ]
  },
  {
   "cell_type": "code",
   "execution_count": 7,
   "metadata": {},
   "outputs": [
    {
     "name": "stdout",
     "output_type": "stream",
     "text": [
      "[25, 10]\n"
     ]
    }
   ],
   "source": [
    "aList = [5, 10, 15, 25]\n",
    "print(aList[::-2])\n"
   ]
  },
  {
   "cell_type": "code",
   "execution_count": 8,
   "metadata": {},
   "outputs": [
    {
     "name": "stdout",
     "output_type": "stream",
     "text": [
      "Hello-Python\n"
     ]
    }
   ],
   "source": [
    "my_list = [\"Hello\", \"Python\"]\n",
    "print(\"-\".join(my_list))\n"
   ]
  },
  {
   "cell_type": "code",
   "execution_count": 9,
   "metadata": {},
   "outputs": [
    {
     "name": "stdout",
     "output_type": "stream",
     "text": [
      "(3, 5, 6, 7, 8, 9, 10, 11, 12, 13, 14, 15)\n"
     ]
    }
   ],
   "source": [
    "time = 3,5,6,7,8,9,10,11,12,13,14,15\n",
    "\n",
    "print(time)"
   ]
  },
  {
   "cell_type": "code",
   "execution_count": 10,
   "metadata": {},
   "outputs": [
    {
     "name": "stdout",
     "output_type": "stream",
     "text": [
      "Yellow\n"
     ]
    }
   ],
   "source": [
    "aTuple = \"Yellow\", 20, \"Red\"\n",
    "a, b, c = aTuple\n",
    "print(a)\n"
   ]
  },
  {
   "cell_type": "code",
   "execution_count": 11,
   "metadata": {},
   "outputs": [
    {
     "name": "stdout",
     "output_type": "stream",
     "text": [
      "None\n"
     ]
    }
   ],
   "source": [
    "student = { \n",
    "  \"name\": \"Emma\", \n",
    "  \"class\": 9, \n",
    "  \"marks\": 75 \n",
    "}\n",
    "\n",
    "print(student.clear())\n",
    "\n"
   ]
  }
 ],
 "metadata": {
  "interpreter": {
   "hash": "1e915f0a29dc84041eaeb02b7b1a21c440e37a87b61d44d5e84a515737dc82bc"
  },
  "kernelspec": {
   "display_name": "Python 3.9.7 64-bit ('base': conda)",
   "language": "python",
   "name": "python3"
  },
  "language_info": {
   "codemirror_mode": {
    "name": "ipython",
    "version": 3
   },
   "file_extension": ".py",
   "mimetype": "text/x-python",
   "name": "python",
   "nbconvert_exporter": "python",
   "pygments_lexer": "ipython3",
   "version": "3.9.7"
  },
  "orig_nbformat": 4
 },
 "nbformat": 4,
 "nbformat_minor": 2
}
